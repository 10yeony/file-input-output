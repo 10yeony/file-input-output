{
 "cells": [
  {
   "cell_type": "code",
   "execution_count": 1,
   "metadata": {},
   "outputs": [
    {
     "name": "stdout",
     "output_type": "stream",
     "text": [
      "Elsa\n"
     ]
    }
   ],
   "source": [
    "# test.xlsx 읽기\n",
    "from openpyxl import load_workbook\n",
    "wb = load_workbook(filename = 'export/test.xlsx') # wb = load_workbook('empty_book.xlsx') 동일\n",
    "ws1 = wb['Change'] # 이름이 Change인 시트\n",
    "print(ws1['B2'].value)"
   ]
  },
  {
   "cell_type": "code",
   "execution_count": 2,
   "metadata": {},
   "outputs": [
    {
     "data": {
      "text/plain": [
       "(<Cell 'Change'.A2>,\n",
       " <Cell 'Change'.B2>,\n",
       " <Cell 'Change'.C2>,\n",
       " <Cell 'Change'.D2>)"
      ]
     },
     "execution_count": 2,
     "metadata": {},
     "output_type": "execute_result"
    }
   ],
   "source": [
    "# 2번째 행 읽기\n",
    "row = ws1['2']\n",
    "row"
   ]
  },
  {
   "cell_type": "code",
   "execution_count": 3,
   "metadata": {},
   "outputs": [
    {
     "name": "stdout",
     "output_type": "stream",
     "text": [
      "1\n",
      "Elsa\n",
      "NewYork\n",
      "Lawyer\n"
     ]
    }
   ],
   "source": [
    "# for문으로 행의 값들 출력하기\n",
    "for cell in row:\n",
    "    print(cell.value)"
   ]
  },
  {
   "cell_type": "code",
   "execution_count": 4,
   "metadata": {},
   "outputs": [
    {
     "data": {
      "text/plain": [
       "(<Cell 'Change'.B1>,\n",
       " <Cell 'Change'.B2>,\n",
       " <Cell 'Change'.B3>,\n",
       " <Cell 'Change'.B4>,\n",
       " <Cell 'Change'.B5>,\n",
       " <Cell 'Change'.B6>)"
      ]
     },
     "execution_count": 4,
     "metadata": {},
     "output_type": "execute_result"
    }
   ],
   "source": [
    "# B번째 열 읽기\n",
    "col = ws1['B']\n",
    "col"
   ]
  },
  {
   "cell_type": "code",
   "execution_count": 5,
   "metadata": {},
   "outputs": [
    {
     "name": "stdout",
     "output_type": "stream",
     "text": [
      "이름\n",
      "Elsa\n",
      "Anna\n",
      "Olaf\n",
      "None\n",
      "None\n"
     ]
    }
   ],
   "source": [
    "# for문으로 열의 값들 출력하기\n",
    "for cell in col:\n",
    "    print(cell.value)"
   ]
  },
  {
   "cell_type": "code",
   "execution_count": 6,
   "metadata": {},
   "outputs": [
    {
     "name": "stdout",
     "output_type": "stream",
     "text": [
      "1\n",
      "Elsa\n",
      "NewYork\n",
      "Lawyer\n",
      "==========\n",
      "2\n",
      "Anna\n",
      "LA\n",
      "Programmer\n",
      "==========\n",
      "3\n",
      "Olaf\n",
      "Washington\n",
      "Teacher\n",
      "==========\n"
     ]
    }
   ],
   "source": [
    "# 행 단위로 영역 지정해서 읽어오기\n",
    "rows = ws1[2:4]\n",
    "for row in rows:\n",
    "    for cell in row:\n",
    "        print(cell.value)\n",
    "    print('='*10)"
   ]
  },
  {
   "cell_type": "code",
   "execution_count": 7,
   "metadata": {},
   "outputs": [
    {
     "name": "stdout",
     "output_type": "stream",
     "text": [
      "이름\n",
      "Elsa\n",
      "Anna\n",
      "Olaf\n",
      "None\n",
      "None\n",
      "==========\n",
      "사는 곳\n",
      "NewYork\n",
      "LA\n",
      "Washington\n",
      "None\n",
      "None\n",
      "==========\n",
      "직업\n",
      "Lawyer\n",
      "Programmer\n",
      "Teacher\n",
      "None\n",
      "None\n",
      "==========\n"
     ]
    }
   ],
   "source": [
    "# 열 단위로 영역 지정해서 읽어오기\n",
    "# 순번을 1~5번까지 정했는데 1~3까지의 값만 있으므로 None이 각각 두번씩 출력됨\n",
    "cols = ws1['B':'D']\n",
    "for col in cols:\n",
    "    for cell in col:\n",
    "        print(cell.value)\n",
    "    print('='*10)"
   ]
  },
  {
   "cell_type": "code",
   "execution_count": 8,
   "metadata": {},
   "outputs": [
    {
     "name": "stdout",
     "output_type": "stream",
     "text": [
      "Elsa\n",
      "NewYork\n",
      "Lawyer\n",
      "==========\n",
      "Anna\n",
      "LA\n",
      "Programmer\n",
      "==========\n",
      "Olaf\n",
      "Washington\n",
      "Teacher\n",
      "==========\n"
     ]
    }
   ],
   "source": [
    "# 영역 지정해서 읽어오기\n",
    "area = ws1['B2':'D4']\n",
    "\n",
    "# 영역 읽기\n",
    "for row in area:\n",
    "    for cell in row:\n",
    "        print(cell.value)\n",
    "    print('='*10)"
   ]
  },
  {
   "cell_type": "code",
   "execution_count": 9,
   "metadata": {},
   "outputs": [],
   "source": [
    "# 해당되는 영역에 쓰기\n",
    "ws1['B5'] = 'Kim'\n",
    "ws1['C5'] = 'Seoul'\n",
    "ws1['D5'] = 'Cook'"
   ]
  },
  {
   "cell_type": "code",
   "execution_count": 10,
   "metadata": {
    "scrolled": true
   },
   "outputs": [],
   "source": [
    "# for문으로 해당되는 영역에 써보기\n",
    "area = ws1['B6':'D6']\n",
    "person = ['Lee', 'Busan', 'Designer']\n",
    "idx = 0\n",
    "\n",
    "for row in area:\n",
    "    for cell in row:\n",
    "        cell.value = person[idx]\n",
    "        idx += 1"
   ]
  },
  {
   "cell_type": "code",
   "execution_count": 11,
   "metadata": {},
   "outputs": [],
   "source": [
    "wb.save('export/test.xlsx')"
   ]
  }
 ],
 "metadata": {
  "kernelspec": {
   "display_name": "Python 3",
   "language": "python",
   "name": "python3"
  },
  "language_info": {
   "codemirror_mode": {
    "name": "ipython",
    "version": 3
   },
   "file_extension": ".py",
   "mimetype": "text/x-python",
   "name": "python",
   "nbconvert_exporter": "python",
   "pygments_lexer": "ipython3",
   "version": "3.8.3"
  }
 },
 "nbformat": 4,
 "nbformat_minor": 4
}
