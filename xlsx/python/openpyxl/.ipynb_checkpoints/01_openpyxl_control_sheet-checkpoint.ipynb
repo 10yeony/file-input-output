{
 "cells": [
  {
   "cell_type": "code",
   "execution_count": 1,
   "metadata": {},
   "outputs": [
    {
     "data": {
      "text/plain": [
       "<Worksheet \"Sheet\">"
      ]
     },
     "execution_count": 1,
     "metadata": {},
     "output_type": "execute_result"
    }
   ],
   "source": [
    "# 엑셀 파일 준비\n",
    "from openpyxl import Workbook\n",
    "wb = Workbook()\n",
    "ws0 = wb.active\n",
    "ws0"
   ]
  },
  {
   "cell_type": "code",
   "execution_count": 2,
   "metadata": {},
   "outputs": [],
   "source": [
    "# 파일 이름 변수\n",
    "dest_filename = '../../../export/test.xlsx'"
   ]
  },
  {
   "cell_type": "code",
   "execution_count": 3,
   "metadata": {
    "scrolled": true
   },
   "outputs": [
    {
     "name": "stdout",
     "output_type": "stream",
     "text": [
      "['Sheet']\n"
     ]
    }
   ],
   "source": [
    "# 시트를 출력해보면 Sheet라는 이름으로 기본으로 생성되어 있는 시트가 있음\n",
    "print(wb.sheetnames) "
   ]
  },
  {
   "cell_type": "code",
   "execution_count": 4,
   "metadata": {},
   "outputs": [],
   "source": [
    "# 시트를 준비시킨다\n",
    "ws1 = wb.active\n",
    "ws2 = wb.active"
   ]
  },
  {
   "cell_type": "code",
   "execution_count": 5,
   "metadata": {},
   "outputs": [],
   "source": [
    "# 시트 삽입. 디폴트 시트인 Sheet에 이어 Sheet1, Sheet2라는 이름이 자동으로 붙음\n",
    "ws1 = wb.create_sheet()\n",
    "ws2 = wb.create_sheet()"
   ]
  },
  {
   "cell_type": "code",
   "execution_count": 6,
   "metadata": {
    "scrolled": true
   },
   "outputs": [
    {
     "name": "stdout",
     "output_type": "stream",
     "text": [
      "['Sheet', 'Sheet1', 'Sheet2']\n"
     ]
    }
   ],
   "source": [
    "# 시트 출력\n",
    "print(wb.sheetnames) "
   ]
  },
  {
   "cell_type": "code",
   "execution_count": 7,
   "metadata": {},
   "outputs": [],
   "source": [
    "# 시트 준비\n",
    "ws3 = wb.active\n",
    "ws4 = wb.active\n",
    "ws5 = wb.active"
   ]
  },
  {
   "cell_type": "code",
   "execution_count": 8,
   "metadata": {},
   "outputs": [],
   "source": [
    "# 시트 삽입. 공통 이름을 정해주면 생성된 순서로 자동 넘버링됨.\n",
    "ws3 = wb.create_sheet(\"MySheet\") # 제일 끝에 삽입(디폴트). 실행 결과 이름 : MySheet\n",
    "ws4 = wb.create_sheet(\"MySheet\", 0) # 제일 처음에 삽입. 실행 결과 이름 : MySheet1\n",
    "ws5 = wb.create_sheet(\"MySheet\", -1) # 제일 끝에서 두번째에 삽입. 실행 결과 이름 : MySheet2"
   ]
  },
  {
   "cell_type": "code",
   "execution_count": 9,
   "metadata": {
    "scrolled": true
   },
   "outputs": [
    {
     "name": "stdout",
     "output_type": "stream",
     "text": [
      "['MySheet1', 'Sheet', 'Sheet1', 'Sheet2', 'MySheet2', 'MySheet']\n"
     ]
    }
   ],
   "source": [
    "# 시트 출력\n",
    "print(wb.sheetnames) "
   ]
  },
  {
   "cell_type": "code",
   "execution_count": 10,
   "metadata": {},
   "outputs": [],
   "source": [
    "# 시트 준비\n",
    "ws6 = wb.active\n",
    "ws7 = wb.active"
   ]
  },
  {
   "cell_type": "code",
   "execution_count": 11,
   "metadata": {},
   "outputs": [],
   "source": [
    "# 다른 공통 이름을 정해서 확인해보자\n",
    "ws6 = wb.create_sheet(\"OtherSheet\") # 실행 결과 이름 : OtherSheet\n",
    "ws7 = wb.create_sheet(\"OtherSheet\") # 실행 결과 이름 : OtherSheet1"
   ]
  },
  {
   "cell_type": "code",
   "execution_count": 12,
   "metadata": {
    "scrolled": true
   },
   "outputs": [
    {
     "name": "stdout",
     "output_type": "stream",
     "text": [
      "['MySheet1', 'Sheet', 'Sheet1', 'Sheet2', 'MySheet2', 'MySheet', 'OtherSheet', 'OtherSheet1']\n"
     ]
    }
   ],
   "source": [
    "# 시트 출력\n",
    "print(wb.sheetnames) "
   ]
  },
  {
   "cell_type": "code",
   "execution_count": 13,
   "metadata": {},
   "outputs": [],
   "source": [
    "# 시트 이름 짓기\n",
    "ws0.title = \"Change\" # 예전 이름 Sheet"
   ]
  },
  {
   "cell_type": "code",
   "execution_count": 14,
   "metadata": {},
   "outputs": [
    {
     "name": "stdout",
     "output_type": "stream",
     "text": [
      "['MySheet1', 'Change', 'Sheet1', 'Sheet2', 'MySheet2', 'MySheet', 'OtherSheet', 'OtherSheet1']\n"
     ]
    }
   ],
   "source": [
    "# 시트 출력\n",
    "print(wb.sheetnames) "
   ]
  },
  {
   "cell_type": "code",
   "execution_count": 15,
   "metadata": {},
   "outputs": [],
   "source": [
    "# 시트 복사\n",
    "ws8 = wb.copy_worksheet(ws7) # 실행 결과 이름 : OtherSheet1 Copy"
   ]
  },
  {
   "cell_type": "code",
   "execution_count": 16,
   "metadata": {
    "scrolled": false
   },
   "outputs": [
    {
     "name": "stdout",
     "output_type": "stream",
     "text": [
      "['MySheet1', 'Change', 'Sheet1', 'Sheet2', 'MySheet2', 'MySheet', 'OtherSheet', 'OtherSheet1', 'OtherSheet1 Copy']\n"
     ]
    }
   ],
   "source": [
    "# 시트 출력\n",
    "print(wb.sheetnames) "
   ]
  },
  {
   "cell_type": "code",
   "execution_count": 17,
   "metadata": {
    "scrolled": false
   },
   "outputs": [
    {
     "name": "stderr",
     "output_type": "stream",
     "text": [
      "<ipython-input-17-5f0805f14378>:2: DeprecationWarning: Call to deprecated function remove_sheet (Use wb.remove(worksheet) or del wb[sheetname]).\n",
      "  wb.remove_sheet(ws4)\n",
      "<ipython-input-17-5f0805f14378>:3: DeprecationWarning: Call to deprecated function remove_sheet (Use wb.remove(worksheet) or del wb[sheetname]).\n",
      "  wb.remove_sheet(ws5)\n",
      "<ipython-input-17-5f0805f14378>:4: DeprecationWarning: Call to deprecated function remove_sheet (Use wb.remove(worksheet) or del wb[sheetname]).\n",
      "  wb.remove_sheet(ws6)\n",
      "<ipython-input-17-5f0805f14378>:5: DeprecationWarning: Call to deprecated function remove_sheet (Use wb.remove(worksheet) or del wb[sheetname]).\n",
      "  wb.remove_sheet(ws7)\n",
      "<ipython-input-17-5f0805f14378>:6: DeprecationWarning: Call to deprecated function remove_sheet (Use wb.remove(worksheet) or del wb[sheetname]).\n",
      "  wb.remove_sheet(ws8)\n"
     ]
    }
   ],
   "source": [
    "# 시트 삭제\n",
    "wb.remove_sheet(ws4)\n",
    "wb.remove_sheet(ws5)\n",
    "wb.remove_sheet(ws6)\n",
    "wb.remove_sheet(ws7)\n",
    "wb.remove_sheet(ws8)"
   ]
  },
  {
   "cell_type": "code",
   "execution_count": 18,
   "metadata": {
    "scrolled": false
   },
   "outputs": [
    {
     "name": "stdout",
     "output_type": "stream",
     "text": [
      "['Change', 'Sheet1', 'Sheet2', 'MySheet']\n"
     ]
    }
   ],
   "source": [
    "# 시트 출력\n",
    "print(wb.sheetnames) "
   ]
  },
  {
   "cell_type": "code",
   "execution_count": 19,
   "metadata": {},
   "outputs": [
    {
     "name": "stdout",
     "output_type": "stream",
     "text": [
      "Change\n",
      "Sheet1\n",
      "Sheet2\n",
      "MySheet\n"
     ]
    }
   ],
   "source": [
    "# 시트 이름을 for문으로 출력할 수도 있다\n",
    "for sheet in wb:\n",
    "     print(sheet.title)"
   ]
  },
  {
   "cell_type": "code",
   "execution_count": 20,
   "metadata": {},
   "outputs": [],
   "source": [
    "# 시트 탭 색깔 바꾸기\n",
    "ws0.sheet_properties.tabColor = \"FF0000\"\n",
    "ws1.sheet_properties.tabColor = \"FFBB00\"\n",
    "ws2.sheet_properties.tabColor = \"1DDB16\"\n",
    "ws3.sheet_properties.tabColor = \"00D8FF\""
   ]
  },
  {
   "cell_type": "code",
   "execution_count": 21,
   "metadata": {},
   "outputs": [],
   "source": [
    "# 엑셀 파일 최종 저장. 엑셀 파일 실행 중에 코드를 실행하면 에러남.\n",
    "wb.save(filename = dest_filename) # wb.save(dest_filename) 동일"
   ]
  }
 ],
 "metadata": {
  "kernelspec": {
   "display_name": "Python 3",
   "language": "python",
   "name": "python3"
  },
  "language_info": {
   "codemirror_mode": {
    "name": "ipython",
    "version": 3
   },
   "file_extension": ".py",
   "mimetype": "text/x-python",
   "name": "python",
   "nbconvert_exporter": "python",
   "pygments_lexer": "ipython3",
   "version": "3.8.3"
  }
 },
 "nbformat": 4,
 "nbformat_minor": 4
}
